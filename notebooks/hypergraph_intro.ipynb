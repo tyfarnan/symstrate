{
    "cells": [
        {
            "cell_type": "markdown",
            "metadata": {},
            "source": [
                "# Introduction to Hypergraphs for Program Analysis\n",
                "\n",
                "## Analyzing Function Composition Order\n",
                "\n",
                "Some function compositions are commutative (order doesn't matter) while others aren't. Let's analyze examples:\n",
                "\n",
                "1. Commutative example: `scale_up` and `threshold`\n",
                "   - `scale_up(threshold(x)) ≡ threshold(scale_up(x))`\n",
                "\n",
                "2. Non-commutative example: `shift_right` and `local_max`\n",
                "   - `shift_right(local_max(x)) ≠ local_max(shift_right(x))`\n",
                "\n",
                "We can use hypergraphs to represent and analyze these relationships."
            ]
        },
        {
            "cell_type": "code",
            "execution_count": 1,
            "metadata": {},
            "outputs": [
                {
                    "ename": "ModuleNotFoundError",
                    "evalue": "No module named 'src'",
                    "output_type": "error",
                    "traceback": [
                        "\u001b[0;31m---------------------------------------------------------------------------\u001b[0m",
                        "\u001b[0;31mModuleNotFoundError\u001b[0m                       Traceback (most recent call last)",
                        "Cell \u001b[0;32mIn[1], line 4\u001b[0m\n\u001b[1;32m      2\u001b[0m \u001b[38;5;28;01mimport\u001b[39;00m\u001b[38;5;250m \u001b[39m\u001b[38;5;21;01mhypernetx\u001b[39;00m\u001b[38;5;250m \u001b[39m\u001b[38;5;28;01mas\u001b[39;00m\u001b[38;5;250m \u001b[39m\u001b[38;5;21;01mhnx\u001b[39;00m\n\u001b[1;32m      3\u001b[0m \u001b[38;5;28;01mimport\u001b[39;00m\u001b[38;5;250m \u001b[39m\u001b[38;5;21;01mmatplotlib\u001b[39;00m\u001b[38;5;21;01m.\u001b[39;00m\u001b[38;5;21;01mpyplot\u001b[39;00m\u001b[38;5;250m \u001b[39m\u001b[38;5;28;01mas\u001b[39;00m\u001b[38;5;250m \u001b[39m\u001b[38;5;21;01mplt\u001b[39;00m\n\u001b[0;32m----> 4\u001b[0m \u001b[38;5;28;01mfrom\u001b[39;00m\u001b[38;5;250m \u001b[39m\u001b[38;5;21;01msrc\u001b[39;00m\u001b[38;5;21;01m.\u001b[39;00m\u001b[38;5;21;01marray_transforms\u001b[39;00m\u001b[38;5;250m \u001b[39m\u001b[38;5;28;01mimport\u001b[39;00m scale_up, threshold, shift_right, local_max\n\u001b[1;32m      6\u001b[0m \u001b[38;5;28;01mdef\u001b[39;00m\u001b[38;5;250m \u001b[39m\u001b[38;5;21mtest_commutativity\u001b[39m(f, g, test_arrays):\n\u001b[1;32m      7\u001b[0m \u001b[38;5;250m    \u001b[39m\u001b[38;5;124;03m\"\"\"Test if functions f and g commute on test arrays.\"\"\"\u001b[39;00m\n",
                        "\u001b[0;31mModuleNotFoundError\u001b[0m: No module named 'src'"
                    ]
                }
            ],
            "source": [
                "import numpy as np\n",
                "import hypernetx as hnx\n",
                "import matplotlib.pyplot as plt\n",
                "\n",
                "import sys\n",
                "from pathlib import Path\n",
                "sys.path.append(str(Path.cwd().parent))  # Add parent directory to path\n",
                "\n",
                "from src.array_transforms import scale_up, threshold, shift_right, local_max\n",
                "\n",
                "def test_commutativity(f, g, test_arrays):\n",
                "    \"\"\"Test if functions f and g commute on test arrays.\"\"\"\n",
                "    results = []\n",
                "    for arr in test_arrays:\n",
                "        fg = f(g(arr.copy()))\n",
                "        gf = g(f(arr.copy()))\n",
                "        results.append(np.array_equal(fg, gf))\n",
                "    return all(results)\n",
                "\n",
                "# Generate test arrays\n",
                "test_arrays = [\n",
                "    np.array([1, 3, 2, 4, 1, 5, 2, 3]),\n",
                "    np.array([5, 2, 7, 1, 4, 3, 6, 2]),\n",
                "    np.array([0, 1, 0, 1, 0, 1, 0, 1])\n",
                "]\n",
                "\n",
                "# Test commutativity\n",
                "scale_threshold_commute = test_commutativity(scale_up, threshold, test_arrays)\n",
                "shift_local_commute = test_commutativity(shift_right, local_max, test_arrays)\n",
                "\n",
                "print(f\"scale_up ∘ threshold commutes: {scale_threshold_commute}\")\n",
                "print(f\"shift_right ∘ local_max commutes: {shift_local_commute}\")\n",
                "\n",
                "# Show example of non-commutativity\n",
                "arr = test_arrays[0]\n",
                "print(\"\\nExample of non-commutativity:\")\n",
                "print(f\"Original:                    {arr}\")\n",
                "print(f\"shift_right(local_max(x)):  {shift_right(local_max(arr.copy()))}\")\n",
                "print(f\"local_max(shift_right(x)):  {local_max(shift_right(arr.copy()))}\")"
            ]
        },
        {
            "cell_type": "markdown",
            "metadata": {},
            "source": [
                "### Representing Order in Hypergraphs\n",
                "\n",
                "We can represent ordering constraints in hypergraphs using:\n",
                "1. Directed hyperedges\n",
                "2. Order-specific edge labels\n",
                "3. Separate edges for different orderings\n",
                "\n",
                "Let's create a hypergraph that captures both commutative and non-commutative relationships:"
            ]
        },
        {
            "cell_type": "code",
            "execution_count": null,
            "metadata": {},
            "outputs": [],
            "source": [
                "def create_order_hypergraph():\n",
                "    edges = {\n",
                "        'commute_scale_threshold': {'scale_up', 'threshold'},\n",
                "        'shift_then_local': {'shift_right', 'local_max', 'order_1'},\n",
                "        'local_then_shift': {'shift_right', 'local_max', 'order_2'},\n",
                "        'result_shift_local': {'shift_then_local', 'output_1'},\n",
                "        'result_local_shift': {'local_then_shift', 'output_2'}\n",
                "    }\n",
                "    return hnx.Hypergraph(edges)\n",
                "\n",
                "H_order = create_order_hypergraph()\n",
                "\n",
                "plt.figure(figsize=(12, 8))\n",
                "hnx.drawing.draw(H_order,\n",
                "                with_node_labels=True,\n",
                "                with_edge_labels=True)\n",
                "plt.title(\"Hypergraph Representation of Function Composition Order\")"
            ]
        },
        {
            "cell_type": "markdown",
            "metadata": {},
            "source": [
                "### Analyzing Order Dependencies\n",
                "\n",
                "We can analyze the hypergraph to detect order dependencies:"
            ]
        },
        {
            "cell_type": "code",
            "execution_count": null,
            "metadata": {},
            "outputs": [],
            "source": [
                "def analyze_order_dependencies(H):\n",
                "    function_pairs = set()\n",
                "    ordered_pairs = set()\n",
                "    \n",
                "    for edge in H.edges:\n",
                "        nodes = list(H.edges[edge])\n",
                "        if any('order' in str(n) for n in nodes):\n",
                "            funcs = [n for n in nodes if n not in ['order_1', 'order_2']]\n",
                "            if len(funcs) == 2:\n",
                "                ordered_pairs.add(tuple(sorted(funcs)))\n",
                "        else:\n",
                "            funcs = [n for n in nodes if not n.startswith('output')]\n",
                "            if len(funcs) == 2:\n",
                "                function_pairs.add(tuple(sorted(funcs)))\n",
                "    \n",
                "    commutative_pairs = function_pairs - ordered_pairs\n",
                "    \n",
                "    return {\n",
                "        'ordered': ordered_pairs,\n",
                "        'commutative': commutative_pairs\n",
                "    }\n",
                "\n",
                "dependencies = analyze_order_dependencies(H_order)\n",
                "\n",
                "print(\"Order Analysis:\")\n",
                "print(\"\\nCommutative function pairs:\")\n",
                "for pair in dependencies['commutative']:\n",
                "    print(f\"  {pair[0]} ∘ {pair[1]}\")\n",
                "\n",
                "print(\"\\nOrder-dependent function pairs:\")\n",
                "for pair in dependencies['ordered']:\n",
                "    print(f\"  {pair[0]} ∘ {pair[1]} ≠ {pair[1]} ∘ {pair[0]}\")"
            ]
        }
    ],
    "metadata": {
        "kernelspec": {
            "display_name": "Python 3",
            "language": "python",
            "name": "python3"
        },
        "language_info": {
            "codemirror_mode": {
                "name": "ipython",
                "version": 3
            },
            "file_extension": ".py",
            "mimetype": "text/x-python",
            "name": "python",
            "nbconvert_exporter": "python",
            "pygments_lexer": "ipython3",
            "version": "3.9.21"
        }
    },
    "nbformat": 4,
    "nbformat_minor": 2
}
